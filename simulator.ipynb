{
 "cells": [
  {
   "cell_type": "code",
   "execution_count": 4,
   "metadata": {},
   "outputs": [],
   "source": [
    "import os\n",
    "import sys\n",
    "\n",
    "sys.path.insert(0, os.path.join('./src'))\n",
    "\n",
    "from bball import InningSimulator, \\\n",
    "                MonteCarloInningEngine, \\\n",
    "                BasicBatterStatsFactory\n",
    "\n",
    "from bball.setups import MathleticsSimpleEventGenerator\n",
    "from bball.simulators import AVERAGE_INNINGS_PER_GAME"
   ]
  },
  {
   "cell_type": "code",
   "execution_count": null,
   "metadata": {},
   "outputs": [],
   "source": []
  },
  {
   "cell_type": "code",
   "execution_count": 5,
   "metadata": {},
   "outputs": [],
   "source": [
    "def run_simulation(batter):\n",
    "    simulator = InningSimulator(\n",
    "        MathleticsSimpleEventGenerator().create(batter)\n",
    "    )\n",
    "\n",
    "    return MonteCarloInningEngine(simulator).run()"
   ]
  },
  {
   "cell_type": "code",
   "execution_count": null,
   "metadata": {},
   "outputs": [],
   "source": []
  },
  {
   "cell_type": "code",
   "execution_count": 6,
   "metadata": {},
   "outputs": [
    {
     "name": "stdout",
     "output_type": "stream",
     "text": [
      "0.7339\n",
      "6.536602666666666 runs per game\n",
      "1058.9296319999999 runs per season\n"
     ]
    }
   ],
   "source": [
    "ichiro = BasicBatterStatsFactory().create('ichiro', {\n",
    "    'AB': 704, ## Appearance\n",
    "    'SH': 2, ## Sac Bunts\n",
    "    'SF': 3, ## Sac Flys\n",
    "    'K': 63,\n",
    "    'BB': 49,\n",
    "    'HBP': 4,\n",
    "    '1B': 225,\n",
    "    '2B': 24,\n",
    "    '3B': 5,\n",
    "    'HR': 8\n",
    "})\n",
    "\n",
    "ichiro_runs = run_simulation(ichiro)\n",
    "\n",
    "print(ichiro_runs)\n",
    "print(ichiro_runs * AVERAGE_INNINGS_PER_GAME, 'runs per game')\n",
    "\n",
    "runs_per_season = (ichiro_runs * AVERAGE_INNINGS_PER_GAME) * 162\n",
    "print(runs_per_season, 'runs per season')"
   ]
  },
  {
   "cell_type": "code",
   "execution_count": null,
   "metadata": {},
   "outputs": [],
   "source": []
  }
 ],
 "metadata": {
  "kernelspec": {
   "display_name": "rc",
   "language": "python",
   "name": "python3"
  },
  "language_info": {
   "codemirror_mode": {
    "name": "ipython",
    "version": 3
   },
   "file_extension": ".py",
   "mimetype": "text/x-python",
   "name": "python",
   "nbconvert_exporter": "python",
   "pygments_lexer": "ipython3",
   "version": "3.9.1"
  },
  "orig_nbformat": 4,
  "vscode": {
   "interpreter": {
    "hash": "95020b902a2df746e83905ddddf9b388e83686c9ac0c7e3287244bbc1a1e2884"
   }
  }
 },
 "nbformat": 4,
 "nbformat_minor": 2
}
