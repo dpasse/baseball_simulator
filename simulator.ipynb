{
 "cells": [
  {
   "cell_type": "code",
   "execution_count": 1,
   "metadata": {},
   "outputs": [],
   "source": [
    "from src.poco import BatterStats\n",
    "from src.engines import InningSimulator\n",
    "from src.events import MathelticsEventGeneratorFactory"
   ]
  },
  {
   "cell_type": "code",
   "execution_count": null,
   "metadata": {},
   "outputs": [],
   "source": []
  },
  {
   "cell_type": "code",
   "execution_count": 2,
   "metadata": {},
   "outputs": [],
   "source": [
    "avg_innings_per_game = (26.72 / 3)\n",
    "def run_simulation(batter, iterations=50000):\n",
    "    inning_simulator = InningSimulator(\n",
    "        batter,\n",
    "        MathelticsEventGeneratorFactory().create(batter.likelihoods())\n",
    "    )\n",
    "\n",
    "    runs = 0\n",
    "    for i in range(iterations):\n",
    "        inning = inning_simulator.play()\n",
    "        runs += inning.history[-1].scenario.runs\n",
    "\n",
    "    return runs / iterations"
   ]
  },
  {
   "cell_type": "code",
   "execution_count": null,
   "metadata": {},
   "outputs": [],
   "source": []
  },
  {
   "cell_type": "code",
   "execution_count": 6,
   "metadata": {},
   "outputs": [
    {
     "name": "stdout",
     "output_type": "stream",
     "text": [
      "0.7712\n",
      "6.868821333333333 runs per game\n",
      "1112.7490559999999 runs per season\n"
     ]
    }
   ],
   "source": [
    "player = BatterStats.create('ichiro', {\n",
    "    'AB': 704, ## Appearance\n",
    "    'SH': 2, ## Sac Bunts\n",
    "    'SF': 3, ## Sac Flys\n",
    "    'K': 63,\n",
    "    'BB': 49,\n",
    "    'HBP': 4,\n",
    "    '1B': 225,\n",
    "    '2B': 24,\n",
    "    '3B': 5,\n",
    "    'HR': 8\n",
    "})\n",
    "\n",
    "ichiro_runs = run_simulation(player, 10000)\n",
    "\n",
    "print(ichiro_runs)\n",
    "print(ichiro_runs * avg_innings_per_game, 'runs per game')\n",
    "\n",
    "runs_per_season = (ichiro_runs * avg_innings_per_game) * 162\n",
    "print(runs_per_season, 'runs per season')"
   ]
  },
  {
   "cell_type": "code",
   "execution_count": null,
   "metadata": {},
   "outputs": [],
   "source": []
  }
 ],
 "metadata": {
  "kernelspec": {
   "display_name": "rc",
   "language": "python",
   "name": "python3"
  },
  "language_info": {
   "codemirror_mode": {
    "name": "ipython",
    "version": 3
   },
   "file_extension": ".py",
   "mimetype": "text/x-python",
   "name": "python",
   "nbconvert_exporter": "python",
   "pygments_lexer": "ipython3",
   "version": "3.9.1"
  },
  "orig_nbformat": 4,
  "vscode": {
   "interpreter": {
    "hash": "95020b902a2df746e83905ddddf9b388e83686c9ac0c7e3287244bbc1a1e2884"
   }
  }
 },
 "nbformat": 4,
 "nbformat_minor": 2
}
